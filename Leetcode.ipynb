{
  "nbformat": 4,
  "nbformat_minor": 0,
  "metadata": {
    "colab": {
      "name": "Leetcode.ipynb",
      "provenance": [],
      "collapsed_sections": [],
      "include_colab_link": true
    },
    "kernelspec": {
      "name": "python3",
      "display_name": "Python 3"
    }
  },
  "cells": [
    {
      "cell_type": "markdown",
      "metadata": {
        "id": "view-in-github",
        "colab_type": "text"
      },
      "source": [
        "<a href=\"https://colab.research.google.com/github/vijayasrithavva/wiseelite/blob/master/Leetcode.ipynb\" target=\"_parent\"><img src=\"https://colab.research.google.com/assets/colab-badge.svg\" alt=\"Open In Colab\"/></a>"
      ]
    },
    {
      "cell_type": "markdown",
      "metadata": {
        "id": "6Tfmi5AC0uLa",
        "colab_type": "text"
      },
      "source": [
        "Count no.of distinct ways such that (i+2*j+k) % (x+y+2*z) = 0 where 1 <= x,y,z,i,j,k <= N"
      ]
    },
    {
      "cell_type": "code",
      "metadata": {
        "id": "n043zFNf1Llu",
        "colab_type": "code",
        "colab": {}
      },
      "source": [
        "from collections import Counter\n",
        "for y in range(2):\n",
        "  t = int(input())\n",
        "  a = [(i + 2*j + k) % (x + y + 2*z) == 0 for i in range(1,t+1) for j in range(1,t+1) for k in range(1,t+1) for x in range(1,t+1) for y in range(1,t+1) for z in range(1,t+1)]\n",
        "  ways = dict(Counter(a))\n",
        "  print(ways[True])"
      ],
      "execution_count": 0,
      "outputs": []
    },
    {
      "cell_type": "code",
      "metadata": {
        "id": "JPxwj3Xg1Vtm",
        "colab_type": "code",
        "colab": {}
      },
      "source": [
        ""
      ],
      "execution_count": 0,
      "outputs": []
    }
  ]
}